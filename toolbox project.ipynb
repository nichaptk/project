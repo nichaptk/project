{
 "cells": [
  {
   "cell_type": "code",
   "execution_count": 1,
   "id": "7aaaa3f9",
   "metadata": {},
   "outputs": [
    {
     "data": {
      "application/javascript": [
       "IPython.notebook.set_autosave_interval(0)"
      ]
     },
     "metadata": {},
     "output_type": "display_data"
    },
    {
     "name": "stdout",
     "output_type": "stream",
     "text": [
      "Autosave disabled\n"
     ]
    }
   ],
   "source": [
    "%autosave 0"
   ]
  },
  {
   "cell_type": "code",
   "execution_count": 2,
   "id": "78072331",
   "metadata": {},
   "outputs": [],
   "source": [
    "import pandas as pd\n",
    "import pandasql"
   ]
  },
  {
   "cell_type": "code",
   "execution_count": 3,
   "id": "f0802ac8",
   "metadata": {},
   "outputs": [],
   "source": [
    "url ='https://docs.google.com/spreadsheets/d/1TIEmFXusr0-ZX2Ne0zqbu8EdmBPLdVi-e_vRYsnx5XQ/edit#gid=1755621245'"
   ]
  },
  {
   "cell_type": "code",
   "execution_count": 4,
   "id": "f2c74cf3",
   "metadata": {},
   "outputs": [],
   "source": [
    "from oauth2client.service_account import ServiceAccountCredentials\n",
    "import gspread"
   ]
  },
  {
   "cell_type": "code",
   "execution_count": 7,
   "id": "9a59422c",
   "metadata": {},
   "outputs": [],
   "source": [
    "scope = ['https://www.googleapis.com/auth/spreadsheets']\n",
    "credentials = ServiceAccountCredentials.from_json_keyfile_name('my_json_file.json', scope)\n",
    "client = gspread.authorize(credentials)\n",
    "sheet = client.open_by_url(url)\n",
    "worksheet = sheet.get_worksheet(0)\n",
    "results = worksheet.get_all_records()"
   ]
  },
  {
   "cell_type": "code",
   "execution_count": 8,
   "id": "cc64a789",
   "metadata": {},
   "outputs": [],
   "source": [
    "result_df = pd.DataFrame(results)"
   ]
  },
  {
   "cell_type": "code",
   "execution_count": 9,
   "id": "1791dc1b",
   "metadata": {},
   "outputs": [
    {
     "data": {
      "text/html": [
       "<div>\n",
       "<style scoped>\n",
       "    .dataframe tbody tr th:only-of-type {\n",
       "        vertical-align: middle;\n",
       "    }\n",
       "\n",
       "    .dataframe tbody tr th {\n",
       "        vertical-align: top;\n",
       "    }\n",
       "\n",
       "    .dataframe thead th {\n",
       "        text-align: right;\n",
       "    }\n",
       "</style>\n",
       "<table border=\"1\" class=\"dataframe\">\n",
       "  <thead>\n",
       "    <tr style=\"text-align: right;\">\n",
       "      <th></th>\n",
       "      <th>ประทับเวลา</th>\n",
       "      <th>ระดับชั้นปีที่กำลังศึกษา</th>\n",
       "      <th>ความเร็วอินเตอร์เน็ตเพียงพอต่อการเรียนออนไลน์มากแค่ไหน</th>\n",
       "      <th>ความพร้อมในการเรียนออนไลน์</th>\n",
       "      <th>ไอแพดจำเป็นต่อการเรียนออนไลน์หรือไม่</th>\n",
       "      <th>คอมพิวเตอร์จำเป็นต่อการเรียนออนไลน์หรือไม่</th>\n",
       "      <th>โทรศัพท์จำเป็นต่อการเรียนออนไลน์หรือไม่</th>\n",
       "    </tr>\n",
       "  </thead>\n",
       "  <tbody>\n",
       "    <tr>\n",
       "      <th>0</th>\n",
       "      <td>12/8/2021, 20:39:56</td>\n",
       "      <td>ชั้นปีที่2</td>\n",
       "      <td>5</td>\n",
       "      <td>3</td>\n",
       "      <td>5</td>\n",
       "      <td>5</td>\n",
       "      <td>4</td>\n",
       "    </tr>\n",
       "    <tr>\n",
       "      <th>1</th>\n",
       "      <td>12/8/2021, 20:40:26</td>\n",
       "      <td>ชั้นปีที่1</td>\n",
       "      <td>2</td>\n",
       "      <td>4</td>\n",
       "      <td>3</td>\n",
       "      <td>4</td>\n",
       "      <td>3</td>\n",
       "    </tr>\n",
       "    <tr>\n",
       "      <th>2</th>\n",
       "      <td>12/8/2021, 20:40:41</td>\n",
       "      <td>ชั้นปีที่2</td>\n",
       "      <td>5</td>\n",
       "      <td>4</td>\n",
       "      <td>5</td>\n",
       "      <td>5</td>\n",
       "      <td>2</td>\n",
       "    </tr>\n",
       "    <tr>\n",
       "      <th>3</th>\n",
       "      <td>12/8/2021, 20:40:55</td>\n",
       "      <td>ชั้นปีที่3</td>\n",
       "      <td>4</td>\n",
       "      <td>4</td>\n",
       "      <td>4</td>\n",
       "      <td>5</td>\n",
       "      <td>4</td>\n",
       "    </tr>\n",
       "    <tr>\n",
       "      <th>4</th>\n",
       "      <td>12/8/2021, 20:41:10</td>\n",
       "      <td>ชั้นปีที่4</td>\n",
       "      <td>5</td>\n",
       "      <td>3</td>\n",
       "      <td>4</td>\n",
       "      <td>5</td>\n",
       "      <td>3</td>\n",
       "    </tr>\n",
       "  </tbody>\n",
       "</table>\n",
       "</div>"
      ],
      "text/plain": [
       "            ประทับเวลา ระดับชั้นปีที่กำลังศึกษา  \\\n",
       "0  12/8/2021, 20:39:56               ชั้นปีที่2   \n",
       "1  12/8/2021, 20:40:26               ชั้นปีที่1   \n",
       "2  12/8/2021, 20:40:41               ชั้นปีที่2   \n",
       "3  12/8/2021, 20:40:55               ชั้นปีที่3   \n",
       "4  12/8/2021, 20:41:10               ชั้นปีที่4   \n",
       "\n",
       "   ความเร็วอินเตอร์เน็ตเพียงพอต่อการเรียนออนไลน์มากแค่ไหน  \\\n",
       "0                                                  5        \n",
       "1                                                  2        \n",
       "2                                                  5        \n",
       "3                                                  4        \n",
       "4                                                  5        \n",
       "\n",
       "   ความพร้อมในการเรียนออนไลน์  ไอแพดจำเป็นต่อการเรียนออนไลน์หรือไม่  \\\n",
       "0                           3                                     5   \n",
       "1                           4                                     3   \n",
       "2                           4                                     5   \n",
       "3                           4                                     4   \n",
       "4                           3                                     4   \n",
       "\n",
       "   คอมพิวเตอร์จำเป็นต่อการเรียนออนไลน์หรือไม่  \\\n",
       "0                                           5   \n",
       "1                                           4   \n",
       "2                                           5   \n",
       "3                                           5   \n",
       "4                                           5   \n",
       "\n",
       "   โทรศัพท์จำเป็นต่อการเรียนออนไลน์หรือไม่  \n",
       "0                                        4  \n",
       "1                                        3  \n",
       "2                                        2  \n",
       "3                                        4  \n",
       "4                                        3  "
      ]
     },
     "execution_count": 9,
     "metadata": {},
     "output_type": "execute_result"
    }
   ],
   "source": [
    "result_df.head()"
   ]
  },
  {
   "cell_type": "code",
   "execution_count": 10,
   "id": "b569ada7",
   "metadata": {},
   "outputs": [
    {
     "data": {
      "text/plain": [
       "Index(['ประทับเวลา', 'ระดับชั้นปีที่กำลังศึกษา',\n",
       "       'ความเร็วอินเตอร์เน็ตเพียงพอต่อการเรียนออนไลน์มากแค่ไหน',\n",
       "       'ความพร้อมในการเรียนออนไลน์', 'ไอแพดจำเป็นต่อการเรียนออนไลน์หรือไม่',\n",
       "       'คอมพิวเตอร์จำเป็นต่อการเรียนออนไลน์หรือไม่',\n",
       "       'โทรศัพท์จำเป็นต่อการเรียนออนไลน์หรือไม่'],\n",
       "      dtype='object')"
      ]
     },
     "execution_count": 10,
     "metadata": {},
     "output_type": "execute_result"
    }
   ],
   "source": [
    "result_df.columns"
   ]
  },
  {
   "cell_type": "code",
   "execution_count": 11,
   "id": "0ffa6ebc",
   "metadata": {},
   "outputs": [
    {
     "data": {
      "text/plain": [
       "7"
      ]
     },
     "execution_count": 11,
     "metadata": {},
     "output_type": "execute_result"
    }
   ],
   "source": [
    "len(result_df.columns)"
   ]
  },
  {
   "cell_type": "code",
   "execution_count": 12,
   "id": "0689f683",
   "metadata": {},
   "outputs": [
    {
     "data": {
      "text/plain": [
       "(187, 7)"
      ]
     },
     "execution_count": 12,
     "metadata": {},
     "output_type": "execute_result"
    }
   ],
   "source": [
    "result_df.shape"
   ]
  },
  {
   "cell_type": "code",
   "execution_count": 13,
   "id": "f1c0eecc",
   "metadata": {},
   "outputs": [
    {
     "data": {
      "text/html": [
       "<div>\n",
       "<style scoped>\n",
       "    .dataframe tbody tr th:only-of-type {\n",
       "        vertical-align: middle;\n",
       "    }\n",
       "\n",
       "    .dataframe tbody tr th {\n",
       "        vertical-align: top;\n",
       "    }\n",
       "\n",
       "    .dataframe thead th {\n",
       "        text-align: right;\n",
       "    }\n",
       "</style>\n",
       "<table border=\"1\" class=\"dataframe\">\n",
       "  <thead>\n",
       "    <tr style=\"text-align: right;\">\n",
       "      <th></th>\n",
       "      <th>ระดับชั้นปีที่กำลังศึกษา</th>\n",
       "    </tr>\n",
       "  </thead>\n",
       "  <tbody>\n",
       "    <tr>\n",
       "      <th>0</th>\n",
       "      <td>ชั้นประถมศึกษา</td>\n",
       "    </tr>\n",
       "    <tr>\n",
       "      <th>1</th>\n",
       "      <td>ชั้นปีที่1</td>\n",
       "    </tr>\n",
       "    <tr>\n",
       "      <th>2</th>\n",
       "      <td>ชั้นปีที่2</td>\n",
       "    </tr>\n",
       "    <tr>\n",
       "      <th>3</th>\n",
       "      <td>ชั้นปีที่3</td>\n",
       "    </tr>\n",
       "    <tr>\n",
       "      <th>4</th>\n",
       "      <td>ชั้นปีที่4</td>\n",
       "    </tr>\n",
       "    <tr>\n",
       "      <th>5</th>\n",
       "      <td>ชั้นมัธยมศึกษา</td>\n",
       "    </tr>\n",
       "  </tbody>\n",
       "</table>\n",
       "</div>"
      ],
      "text/plain": [
       "  ระดับชั้นปีที่กำลังศึกษา\n",
       "0           ชั้นประถมศึกษา\n",
       "1               ชั้นปีที่1\n",
       "2               ชั้นปีที่2\n",
       "3               ชั้นปีที่3\n",
       "4               ชั้นปีที่4\n",
       "5           ชั้นมัธยมศึกษา"
      ]
     },
     "execution_count": 13,
     "metadata": {},
     "output_type": "execute_result"
    }
   ],
   "source": [
    "qdf =  pandasql.sqldf(\"select ระดับชั้นปีที่กำลังศึกษา from result_df group by ระดับชั้นปีที่กำลังศึกษา\")\n",
    "\n",
    "qdf.head(20)"
   ]
  },
  {
   "cell_type": "code",
   "execution_count": 14,
   "id": "328aa3bc",
   "metadata": {},
   "outputs": [
    {
     "data": {
      "text/html": [
       "<div>\n",
       "<style scoped>\n",
       "    .dataframe tbody tr th:only-of-type {\n",
       "        vertical-align: middle;\n",
       "    }\n",
       "\n",
       "    .dataframe tbody tr th {\n",
       "        vertical-align: top;\n",
       "    }\n",
       "\n",
       "    .dataframe thead th {\n",
       "        text-align: right;\n",
       "    }\n",
       "</style>\n",
       "<table border=\"1\" class=\"dataframe\">\n",
       "  <thead>\n",
       "    <tr style=\"text-align: right;\">\n",
       "      <th></th>\n",
       "      <th>ระดับชั้นปีที่กำลังศึกษา</th>\n",
       "      <th>q1</th>\n",
       "    </tr>\n",
       "  </thead>\n",
       "  <tbody>\n",
       "    <tr>\n",
       "      <th>0</th>\n",
       "      <td>ชั้นประถมศึกษา</td>\n",
       "      <td>3</td>\n",
       "    </tr>\n",
       "    <tr>\n",
       "      <th>1</th>\n",
       "      <td>ชั้นปีที่1</td>\n",
       "      <td>3</td>\n",
       "    </tr>\n",
       "    <tr>\n",
       "      <th>2</th>\n",
       "      <td>ชั้นปีที่2</td>\n",
       "      <td>3</td>\n",
       "    </tr>\n",
       "    <tr>\n",
       "      <th>3</th>\n",
       "      <td>ชั้นปีที่3</td>\n",
       "      <td>4</td>\n",
       "    </tr>\n",
       "    <tr>\n",
       "      <th>4</th>\n",
       "      <td>ชั้นปีที่4</td>\n",
       "      <td>3</td>\n",
       "    </tr>\n",
       "    <tr>\n",
       "      <th>5</th>\n",
       "      <td>ชั้นมัธยมศึกษา</td>\n",
       "      <td>3</td>\n",
       "    </tr>\n",
       "  </tbody>\n",
       "</table>\n",
       "</div>"
      ],
      "text/plain": [
       "  ระดับชั้นปีที่กำลังศึกษา  q1\n",
       "0           ชั้นประถมศึกษา   3\n",
       "1               ชั้นปีที่1   3\n",
       "2               ชั้นปีที่2   3\n",
       "3               ชั้นปีที่3   4\n",
       "4               ชั้นปีที่4   3\n",
       "5           ชั้นมัธยมศึกษา   3"
      ]
     },
     "execution_count": 14,
     "metadata": {},
     "output_type": "execute_result"
    }
   ],
   "source": [
    "qdf =  pandasql.sqldf(\"select ระดับชั้นปีที่กำลังศึกษา, sum(ความเร็วอินเตอร์เน็ตเพียงพอต่อการเรียนออนไลน์มากแค่ไหน)/count(*) as q1 from result_df group by ระดับชั้นปีที่กำลังศึกษา\")\n",
    "\n",
    "qdf.head(20)"
   ]
  },
  {
   "cell_type": "code",
   "execution_count": 15,
   "id": "1c0126fe",
   "metadata": {},
   "outputs": [
    {
     "data": {
      "text/html": [
       "<div>\n",
       "<style scoped>\n",
       "    .dataframe tbody tr th:only-of-type {\n",
       "        vertical-align: middle;\n",
       "    }\n",
       "\n",
       "    .dataframe tbody tr th {\n",
       "        vertical-align: top;\n",
       "    }\n",
       "\n",
       "    .dataframe thead th {\n",
       "        text-align: right;\n",
       "    }\n",
       "</style>\n",
       "<table border=\"1\" class=\"dataframe\">\n",
       "  <thead>\n",
       "    <tr style=\"text-align: right;\">\n",
       "      <th></th>\n",
       "      <th>ระดับชั้นปีที่กำลังศึกษา</th>\n",
       "      <th>q2</th>\n",
       "    </tr>\n",
       "  </thead>\n",
       "  <tbody>\n",
       "    <tr>\n",
       "      <th>0</th>\n",
       "      <td>ชั้นประถมศึกษา</td>\n",
       "      <td>2</td>\n",
       "    </tr>\n",
       "    <tr>\n",
       "      <th>1</th>\n",
       "      <td>ชั้นปีที่1</td>\n",
       "      <td>3</td>\n",
       "    </tr>\n",
       "    <tr>\n",
       "      <th>2</th>\n",
       "      <td>ชั้นปีที่2</td>\n",
       "      <td>3</td>\n",
       "    </tr>\n",
       "    <tr>\n",
       "      <th>3</th>\n",
       "      <td>ชั้นปีที่3</td>\n",
       "      <td>3</td>\n",
       "    </tr>\n",
       "    <tr>\n",
       "      <th>4</th>\n",
       "      <td>ชั้นปีที่4</td>\n",
       "      <td>3</td>\n",
       "    </tr>\n",
       "    <tr>\n",
       "      <th>5</th>\n",
       "      <td>ชั้นมัธยมศึกษา</td>\n",
       "      <td>3</td>\n",
       "    </tr>\n",
       "  </tbody>\n",
       "</table>\n",
       "</div>"
      ],
      "text/plain": [
       "  ระดับชั้นปีที่กำลังศึกษา  q2\n",
       "0           ชั้นประถมศึกษา   2\n",
       "1               ชั้นปีที่1   3\n",
       "2               ชั้นปีที่2   3\n",
       "3               ชั้นปีที่3   3\n",
       "4               ชั้นปีที่4   3\n",
       "5           ชั้นมัธยมศึกษา   3"
      ]
     },
     "execution_count": 15,
     "metadata": {},
     "output_type": "execute_result"
    }
   ],
   "source": [
    "qdf =  pandasql.sqldf(\"select ระดับชั้นปีที่กำลังศึกษา, sum(ความพร้อมในการเรียนออนไลน์)/count(*) as q2 from result_df group by ระดับชั้นปีที่กำลังศึกษา\")\n",
    "\n",
    "qdf.head(20)"
   ]
  },
  {
   "cell_type": "code",
   "execution_count": 16,
   "id": "d0e962ae",
   "metadata": {},
   "outputs": [
    {
     "data": {
      "text/html": [
       "<div>\n",
       "<style scoped>\n",
       "    .dataframe tbody tr th:only-of-type {\n",
       "        vertical-align: middle;\n",
       "    }\n",
       "\n",
       "    .dataframe tbody tr th {\n",
       "        vertical-align: top;\n",
       "    }\n",
       "\n",
       "    .dataframe thead th {\n",
       "        text-align: right;\n",
       "    }\n",
       "</style>\n",
       "<table border=\"1\" class=\"dataframe\">\n",
       "  <thead>\n",
       "    <tr style=\"text-align: right;\">\n",
       "      <th></th>\n",
       "      <th>ระดับชั้นปีที่กำลังศึกษา</th>\n",
       "      <th>q3</th>\n",
       "    </tr>\n",
       "  </thead>\n",
       "  <tbody>\n",
       "    <tr>\n",
       "      <th>0</th>\n",
       "      <td>ชั้นประถมศึกษา</td>\n",
       "      <td>3</td>\n",
       "    </tr>\n",
       "    <tr>\n",
       "      <th>1</th>\n",
       "      <td>ชั้นปีที่1</td>\n",
       "      <td>4</td>\n",
       "    </tr>\n",
       "    <tr>\n",
       "      <th>2</th>\n",
       "      <td>ชั้นปีที่2</td>\n",
       "      <td>4</td>\n",
       "    </tr>\n",
       "    <tr>\n",
       "      <th>3</th>\n",
       "      <td>ชั้นปีที่3</td>\n",
       "      <td>4</td>\n",
       "    </tr>\n",
       "    <tr>\n",
       "      <th>4</th>\n",
       "      <td>ชั้นปีที่4</td>\n",
       "      <td>4</td>\n",
       "    </tr>\n",
       "    <tr>\n",
       "      <th>5</th>\n",
       "      <td>ชั้นมัธยมศึกษา</td>\n",
       "      <td>4</td>\n",
       "    </tr>\n",
       "  </tbody>\n",
       "</table>\n",
       "</div>"
      ],
      "text/plain": [
       "  ระดับชั้นปีที่กำลังศึกษา  q3\n",
       "0           ชั้นประถมศึกษา   3\n",
       "1               ชั้นปีที่1   4\n",
       "2               ชั้นปีที่2   4\n",
       "3               ชั้นปีที่3   4\n",
       "4               ชั้นปีที่4   4\n",
       "5           ชั้นมัธยมศึกษา   4"
      ]
     },
     "execution_count": 16,
     "metadata": {},
     "output_type": "execute_result"
    }
   ],
   "source": [
    "qdf =  pandasql.sqldf(\"select ระดับชั้นปีที่กำลังศึกษา, sum(ไอแพดจำเป็นต่อการเรียนออนไลน์หรือไม่)/count(*) as q3 from result_df group by ระดับชั้นปีที่กำลังศึกษา\")\n",
    "\n",
    "qdf.head(20)"
   ]
  },
  {
   "cell_type": "code",
   "execution_count": 17,
   "id": "c9fdd000",
   "metadata": {},
   "outputs": [
    {
     "data": {
      "text/html": [
       "<div>\n",
       "<style scoped>\n",
       "    .dataframe tbody tr th:only-of-type {\n",
       "        vertical-align: middle;\n",
       "    }\n",
       "\n",
       "    .dataframe tbody tr th {\n",
       "        vertical-align: top;\n",
       "    }\n",
       "\n",
       "    .dataframe thead th {\n",
       "        text-align: right;\n",
       "    }\n",
       "</style>\n",
       "<table border=\"1\" class=\"dataframe\">\n",
       "  <thead>\n",
       "    <tr style=\"text-align: right;\">\n",
       "      <th></th>\n",
       "      <th>ระดับชั้นปีที่กำลังศึกษา</th>\n",
       "      <th>q4</th>\n",
       "    </tr>\n",
       "  </thead>\n",
       "  <tbody>\n",
       "    <tr>\n",
       "      <th>0</th>\n",
       "      <td>ชั้นประถมศึกษา</td>\n",
       "      <td>3</td>\n",
       "    </tr>\n",
       "    <tr>\n",
       "      <th>1</th>\n",
       "      <td>ชั้นปีที่1</td>\n",
       "      <td>4</td>\n",
       "    </tr>\n",
       "    <tr>\n",
       "      <th>2</th>\n",
       "      <td>ชั้นปีที่2</td>\n",
       "      <td>4</td>\n",
       "    </tr>\n",
       "    <tr>\n",
       "      <th>3</th>\n",
       "      <td>ชั้นปีที่3</td>\n",
       "      <td>4</td>\n",
       "    </tr>\n",
       "    <tr>\n",
       "      <th>4</th>\n",
       "      <td>ชั้นปีที่4</td>\n",
       "      <td>4</td>\n",
       "    </tr>\n",
       "    <tr>\n",
       "      <th>5</th>\n",
       "      <td>ชั้นมัธยมศึกษา</td>\n",
       "      <td>4</td>\n",
       "    </tr>\n",
       "  </tbody>\n",
       "</table>\n",
       "</div>"
      ],
      "text/plain": [
       "  ระดับชั้นปีที่กำลังศึกษา  q4\n",
       "0           ชั้นประถมศึกษา   3\n",
       "1               ชั้นปีที่1   4\n",
       "2               ชั้นปีที่2   4\n",
       "3               ชั้นปีที่3   4\n",
       "4               ชั้นปีที่4   4\n",
       "5           ชั้นมัธยมศึกษา   4"
      ]
     },
     "execution_count": 17,
     "metadata": {},
     "output_type": "execute_result"
    }
   ],
   "source": [
    "qdf =  pandasql.sqldf(\"select ระดับชั้นปีที่กำลังศึกษา, sum(คอมพิวเตอร์จำเป็นต่อการเรียนออนไลน์หรือไม่)/count(*) as q4 from result_df group by ระดับชั้นปีที่กำลังศึกษา\")\n",
    "\n",
    "qdf.head(20)"
   ]
  },
  {
   "cell_type": "code",
   "execution_count": 18,
   "id": "10940dc5",
   "metadata": {},
   "outputs": [
    {
     "data": {
      "text/html": [
       "<div>\n",
       "<style scoped>\n",
       "    .dataframe tbody tr th:only-of-type {\n",
       "        vertical-align: middle;\n",
       "    }\n",
       "\n",
       "    .dataframe tbody tr th {\n",
       "        vertical-align: top;\n",
       "    }\n",
       "\n",
       "    .dataframe thead th {\n",
       "        text-align: right;\n",
       "    }\n",
       "</style>\n",
       "<table border=\"1\" class=\"dataframe\">\n",
       "  <thead>\n",
       "    <tr style=\"text-align: right;\">\n",
       "      <th></th>\n",
       "      <th>ระดับชั้นปีที่กำลังศึกษา</th>\n",
       "      <th>q5</th>\n",
       "    </tr>\n",
       "  </thead>\n",
       "  <tbody>\n",
       "    <tr>\n",
       "      <th>0</th>\n",
       "      <td>ชั้นประถมศึกษา</td>\n",
       "      <td>4</td>\n",
       "    </tr>\n",
       "    <tr>\n",
       "      <th>1</th>\n",
       "      <td>ชั้นปีที่1</td>\n",
       "      <td>3</td>\n",
       "    </tr>\n",
       "    <tr>\n",
       "      <th>2</th>\n",
       "      <td>ชั้นปีที่2</td>\n",
       "      <td>3</td>\n",
       "    </tr>\n",
       "    <tr>\n",
       "      <th>3</th>\n",
       "      <td>ชั้นปีที่3</td>\n",
       "      <td>3</td>\n",
       "    </tr>\n",
       "    <tr>\n",
       "      <th>4</th>\n",
       "      <td>ชั้นปีที่4</td>\n",
       "      <td>2</td>\n",
       "    </tr>\n",
       "    <tr>\n",
       "      <th>5</th>\n",
       "      <td>ชั้นมัธยมศึกษา</td>\n",
       "      <td>3</td>\n",
       "    </tr>\n",
       "  </tbody>\n",
       "</table>\n",
       "</div>"
      ],
      "text/plain": [
       "  ระดับชั้นปีที่กำลังศึกษา  q5\n",
       "0           ชั้นประถมศึกษา   4\n",
       "1               ชั้นปีที่1   3\n",
       "2               ชั้นปีที่2   3\n",
       "3               ชั้นปีที่3   3\n",
       "4               ชั้นปีที่4   2\n",
       "5           ชั้นมัธยมศึกษา   3"
      ]
     },
     "execution_count": 18,
     "metadata": {},
     "output_type": "execute_result"
    }
   ],
   "source": [
    "qdf =  pandasql.sqldf(\"select ระดับชั้นปีที่กำลังศึกษา, sum(โทรศัพท์จำเป็นต่อการเรียนออนไลน์หรือไม่)/count(*) as q5 from result_df group by ระดับชั้นปีที่กำลังศึกษา\")\n",
    "\n",
    "qdf.head(20)"
   ]
  },
  {
   "cell_type": "code",
   "execution_count": 19,
   "id": "6071f9b8",
   "metadata": {},
   "outputs": [],
   "source": [
    "q1 = 'sum(ความเร็วอินเตอร์เน็ตเพียงพอต่อการเรียนออนไลน์มากแค่ไหน)/count(*) as q1'\n",
    "q2 = 'sum(ความพร้อมในการเรียนออนไลน์)/count(*) as q2'\n",
    "q3 = 'sum(ไอแพดจำเป็นต่อการเรียนออนไลน์หรือไม่)/count(*) as q3'\n",
    "q4 = 'sum(คอมพิวเตอร์จำเป็นต่อการเรียนออนไลน์หรือไม่)/count(*) as q4'\n",
    "q5 = 'sum(โทรศัพท์จำเป็นต่อการเรียนออนไลน์หรือไม่)/count(*) as q5'"
   ]
  },
  {
   "cell_type": "code",
   "execution_count": 20,
   "id": "61c8594c",
   "metadata": {},
   "outputs": [],
   "source": [
    "sql = \"select ระดับชั้นปีที่กำลังศึกษา, %s, %s, %s, %s, %s from result_df group by ระดับชั้นปีที่กำลังศึกษา\" % (q1, q2, q3, q4, q5)"
   ]
  },
  {
   "cell_type": "code",
   "execution_count": 21,
   "id": "d37667fa",
   "metadata": {},
   "outputs": [
    {
     "data": {
      "text/plain": [
       "'select ระดับชั้นปีที่กำลังศึกษา, sum(ความเร็วอินเตอร์เน็ตเพียงพอต่อการเรียนออนไลน์มากแค่ไหน)/count(*) as q1, sum(ความพร้อมในการเรียนออนไลน์)/count(*) as q2, sum(ไอแพดจำเป็นต่อการเรียนออนไลน์หรือไม่)/count(*) as q3, sum(คอมพิวเตอร์จำเป็นต่อการเรียนออนไลน์หรือไม่)/count(*) as q4, sum(โทรศัพท์จำเป็นต่อการเรียนออนไลน์หรือไม่)/count(*) as q5 from result_df group by ระดับชั้นปีที่กำลังศึกษา'"
      ]
     },
     "execution_count": 21,
     "metadata": {},
     "output_type": "execute_result"
    }
   ],
   "source": [
    "sql"
   ]
  },
  {
   "cell_type": "code",
   "execution_count": 22,
   "id": "271220f1",
   "metadata": {},
   "outputs": [
    {
     "data": {
      "text/html": [
       "<div>\n",
       "<style scoped>\n",
       "    .dataframe tbody tr th:only-of-type {\n",
       "        vertical-align: middle;\n",
       "    }\n",
       "\n",
       "    .dataframe tbody tr th {\n",
       "        vertical-align: top;\n",
       "    }\n",
       "\n",
       "    .dataframe thead th {\n",
       "        text-align: right;\n",
       "    }\n",
       "</style>\n",
       "<table border=\"1\" class=\"dataframe\">\n",
       "  <thead>\n",
       "    <tr style=\"text-align: right;\">\n",
       "      <th></th>\n",
       "      <th>ระดับชั้นปีที่กำลังศึกษา</th>\n",
       "      <th>q1</th>\n",
       "      <th>q2</th>\n",
       "      <th>q3</th>\n",
       "      <th>q4</th>\n",
       "      <th>q5</th>\n",
       "    </tr>\n",
       "  </thead>\n",
       "  <tbody>\n",
       "    <tr>\n",
       "      <th>0</th>\n",
       "      <td>ชั้นประถมศึกษา</td>\n",
       "      <td>3</td>\n",
       "      <td>2</td>\n",
       "      <td>3</td>\n",
       "      <td>3</td>\n",
       "      <td>4</td>\n",
       "    </tr>\n",
       "    <tr>\n",
       "      <th>1</th>\n",
       "      <td>ชั้นปีที่1</td>\n",
       "      <td>3</td>\n",
       "      <td>3</td>\n",
       "      <td>4</td>\n",
       "      <td>4</td>\n",
       "      <td>3</td>\n",
       "    </tr>\n",
       "    <tr>\n",
       "      <th>2</th>\n",
       "      <td>ชั้นปีที่2</td>\n",
       "      <td>3</td>\n",
       "      <td>3</td>\n",
       "      <td>4</td>\n",
       "      <td>4</td>\n",
       "      <td>3</td>\n",
       "    </tr>\n",
       "    <tr>\n",
       "      <th>3</th>\n",
       "      <td>ชั้นปีที่3</td>\n",
       "      <td>4</td>\n",
       "      <td>3</td>\n",
       "      <td>4</td>\n",
       "      <td>4</td>\n",
       "      <td>3</td>\n",
       "    </tr>\n",
       "    <tr>\n",
       "      <th>4</th>\n",
       "      <td>ชั้นปีที่4</td>\n",
       "      <td>3</td>\n",
       "      <td>3</td>\n",
       "      <td>4</td>\n",
       "      <td>4</td>\n",
       "      <td>2</td>\n",
       "    </tr>\n",
       "    <tr>\n",
       "      <th>5</th>\n",
       "      <td>ชั้นมัธยมศึกษา</td>\n",
       "      <td>3</td>\n",
       "      <td>3</td>\n",
       "      <td>4</td>\n",
       "      <td>4</td>\n",
       "      <td>3</td>\n",
       "    </tr>\n",
       "  </tbody>\n",
       "</table>\n",
       "</div>"
      ],
      "text/plain": [
       "  ระดับชั้นปีที่กำลังศึกษา  q1  q2  q3  q4  q5\n",
       "0           ชั้นประถมศึกษา   3   2   3   3   4\n",
       "1               ชั้นปีที่1   3   3   4   4   3\n",
       "2               ชั้นปีที่2   3   3   4   4   3\n",
       "3               ชั้นปีที่3   4   3   4   4   3\n",
       "4               ชั้นปีที่4   3   3   4   4   2\n",
       "5           ชั้นมัธยมศึกษา   3   3   4   4   3"
      ]
     },
     "execution_count": 22,
     "metadata": {},
     "output_type": "execute_result"
    }
   ],
   "source": [
    "sum_report =  pandasql.sqldf(sql)\n",
    "\n",
    "sum_report.head(20)"
   ]
  },
  {
   "cell_type": "code",
   "execution_count": 23,
   "id": "f916d42b",
   "metadata": {},
   "outputs": [
    {
     "name": "stderr",
     "output_type": "stream",
     "text": [
      "<ipython-input-23-6e4a4c5b7531>:1: FutureWarning: Dropping of nuisance columns in DataFrame reductions (with 'numeric_only=None') is deprecated; in a future version this will raise TypeError.  Select only valid columns before calling the reduction.\n",
      "  sum_report['sum'] = sum_report.sum(axis=1)\n"
     ]
    }
   ],
   "source": [
    "sum_report['sum'] = sum_report.sum(axis=1)"
   ]
  },
  {
   "cell_type": "code",
   "execution_count": 24,
   "id": "15a18fbd",
   "metadata": {},
   "outputs": [
    {
     "data": {
      "text/html": [
       "<div>\n",
       "<style scoped>\n",
       "    .dataframe tbody tr th:only-of-type {\n",
       "        vertical-align: middle;\n",
       "    }\n",
       "\n",
       "    .dataframe tbody tr th {\n",
       "        vertical-align: top;\n",
       "    }\n",
       "\n",
       "    .dataframe thead th {\n",
       "        text-align: right;\n",
       "    }\n",
       "</style>\n",
       "<table border=\"1\" class=\"dataframe\">\n",
       "  <thead>\n",
       "    <tr style=\"text-align: right;\">\n",
       "      <th></th>\n",
       "      <th>ระดับชั้นปีที่กำลังศึกษา</th>\n",
       "      <th>q1</th>\n",
       "      <th>q2</th>\n",
       "      <th>q3</th>\n",
       "      <th>q4</th>\n",
       "      <th>q5</th>\n",
       "      <th>sum</th>\n",
       "    </tr>\n",
       "  </thead>\n",
       "  <tbody>\n",
       "    <tr>\n",
       "      <th>0</th>\n",
       "      <td>ชั้นประถมศึกษา</td>\n",
       "      <td>3</td>\n",
       "      <td>2</td>\n",
       "      <td>3</td>\n",
       "      <td>3</td>\n",
       "      <td>4</td>\n",
       "      <td>15</td>\n",
       "    </tr>\n",
       "    <tr>\n",
       "      <th>1</th>\n",
       "      <td>ชั้นปีที่1</td>\n",
       "      <td>3</td>\n",
       "      <td>3</td>\n",
       "      <td>4</td>\n",
       "      <td>4</td>\n",
       "      <td>3</td>\n",
       "      <td>17</td>\n",
       "    </tr>\n",
       "    <tr>\n",
       "      <th>2</th>\n",
       "      <td>ชั้นปีที่2</td>\n",
       "      <td>3</td>\n",
       "      <td>3</td>\n",
       "      <td>4</td>\n",
       "      <td>4</td>\n",
       "      <td>3</td>\n",
       "      <td>17</td>\n",
       "    </tr>\n",
       "    <tr>\n",
       "      <th>3</th>\n",
       "      <td>ชั้นปีที่3</td>\n",
       "      <td>4</td>\n",
       "      <td>3</td>\n",
       "      <td>4</td>\n",
       "      <td>4</td>\n",
       "      <td>3</td>\n",
       "      <td>18</td>\n",
       "    </tr>\n",
       "    <tr>\n",
       "      <th>4</th>\n",
       "      <td>ชั้นปีที่4</td>\n",
       "      <td>3</td>\n",
       "      <td>3</td>\n",
       "      <td>4</td>\n",
       "      <td>4</td>\n",
       "      <td>2</td>\n",
       "      <td>16</td>\n",
       "    </tr>\n",
       "    <tr>\n",
       "      <th>5</th>\n",
       "      <td>ชั้นมัธยมศึกษา</td>\n",
       "      <td>3</td>\n",
       "      <td>3</td>\n",
       "      <td>4</td>\n",
       "      <td>4</td>\n",
       "      <td>3</td>\n",
       "      <td>17</td>\n",
       "    </tr>\n",
       "  </tbody>\n",
       "</table>\n",
       "</div>"
      ],
      "text/plain": [
       "  ระดับชั้นปีที่กำลังศึกษา  q1  q2  q3  q4  q5  sum\n",
       "0           ชั้นประถมศึกษา   3   2   3   3   4   15\n",
       "1               ชั้นปีที่1   3   3   4   4   3   17\n",
       "2               ชั้นปีที่2   3   3   4   4   3   17\n",
       "3               ชั้นปีที่3   4   3   4   4   3   18\n",
       "4               ชั้นปีที่4   3   3   4   4   2   16\n",
       "5           ชั้นมัธยมศึกษา   3   3   4   4   3   17"
      ]
     },
     "execution_count": 24,
     "metadata": {},
     "output_type": "execute_result"
    }
   ],
   "source": [
    "sum_report.head(20)"
   ]
  },
  {
   "cell_type": "code",
   "execution_count": 25,
   "id": "ef65205c",
   "metadata": {},
   "outputs": [
    {
     "data": {
      "text/html": [
       "<div>\n",
       "<style scoped>\n",
       "    .dataframe tbody tr th:only-of-type {\n",
       "        vertical-align: middle;\n",
       "    }\n",
       "\n",
       "    .dataframe tbody tr th {\n",
       "        vertical-align: top;\n",
       "    }\n",
       "\n",
       "    .dataframe thead th {\n",
       "        text-align: right;\n",
       "    }\n",
       "</style>\n",
       "<table border=\"1\" class=\"dataframe\">\n",
       "  <thead>\n",
       "    <tr style=\"text-align: right;\">\n",
       "      <th></th>\n",
       "      <th>ระดับชั้นปีที่กำลังศึกษา</th>\n",
       "      <th>q1</th>\n",
       "      <th>q2</th>\n",
       "      <th>q3</th>\n",
       "      <th>q4</th>\n",
       "      <th>q5</th>\n",
       "      <th>sum</th>\n",
       "    </tr>\n",
       "  </thead>\n",
       "  <tbody>\n",
       "    <tr>\n",
       "      <th>0</th>\n",
       "      <td>ชั้นปีที่3</td>\n",
       "      <td>4</td>\n",
       "      <td>3</td>\n",
       "      <td>4</td>\n",
       "      <td>4</td>\n",
       "      <td>3</td>\n",
       "      <td>18</td>\n",
       "    </tr>\n",
       "    <tr>\n",
       "      <th>1</th>\n",
       "      <td>ชั้นปีที่1</td>\n",
       "      <td>3</td>\n",
       "      <td>3</td>\n",
       "      <td>4</td>\n",
       "      <td>4</td>\n",
       "      <td>3</td>\n",
       "      <td>17</td>\n",
       "    </tr>\n",
       "    <tr>\n",
       "      <th>2</th>\n",
       "      <td>ชั้นปีที่2</td>\n",
       "      <td>3</td>\n",
       "      <td>3</td>\n",
       "      <td>4</td>\n",
       "      <td>4</td>\n",
       "      <td>3</td>\n",
       "      <td>17</td>\n",
       "    </tr>\n",
       "    <tr>\n",
       "      <th>3</th>\n",
       "      <td>ชั้นมัธยมศึกษา</td>\n",
       "      <td>3</td>\n",
       "      <td>3</td>\n",
       "      <td>4</td>\n",
       "      <td>4</td>\n",
       "      <td>3</td>\n",
       "      <td>17</td>\n",
       "    </tr>\n",
       "    <tr>\n",
       "      <th>4</th>\n",
       "      <td>ชั้นปีที่4</td>\n",
       "      <td>3</td>\n",
       "      <td>3</td>\n",
       "      <td>4</td>\n",
       "      <td>4</td>\n",
       "      <td>2</td>\n",
       "      <td>16</td>\n",
       "    </tr>\n",
       "    <tr>\n",
       "      <th>5</th>\n",
       "      <td>ชั้นประถมศึกษา</td>\n",
       "      <td>3</td>\n",
       "      <td>2</td>\n",
       "      <td>3</td>\n",
       "      <td>3</td>\n",
       "      <td>4</td>\n",
       "      <td>15</td>\n",
       "    </tr>\n",
       "  </tbody>\n",
       "</table>\n",
       "</div>"
      ],
      "text/plain": [
       "  ระดับชั้นปีที่กำลังศึกษา  q1  q2  q3  q4  q5  sum\n",
       "0               ชั้นปีที่3   4   3   4   4   3   18\n",
       "1               ชั้นปีที่1   3   3   4   4   3   17\n",
       "2               ชั้นปีที่2   3   3   4   4   3   17\n",
       "3           ชั้นมัธยมศึกษา   3   3   4   4   3   17\n",
       "4               ชั้นปีที่4   3   3   4   4   2   16\n",
       "5           ชั้นประถมศึกษา   3   2   3   3   4   15"
      ]
     },
     "execution_count": 25,
     "metadata": {},
     "output_type": "execute_result"
    }
   ],
   "source": [
    "qdf =  pandasql.sqldf(\"select * from sum_report order by sum desc\")\n",
    "\n",
    "qdf.head(20)"
   ]
  },
  {
   "cell_type": "code",
   "execution_count": 26,
   "id": "59f6fac2",
   "metadata": {},
   "outputs": [],
   "source": [
    "qdf.to_csv('score.csv', encoding='utf8', index=False)"
   ]
  },
  {
   "cell_type": "code",
   "execution_count": null,
   "id": "7140ef3a",
   "metadata": {},
   "outputs": [],
   "source": []
  }
 ],
 "metadata": {
  "kernelspec": {
   "display_name": "Python 3",
   "language": "python",
   "name": "python3"
  },
  "language_info": {
   "codemirror_mode": {
    "name": "ipython",
    "version": 3
   },
   "file_extension": ".py",
   "mimetype": "text/x-python",
   "name": "python",
   "nbconvert_exporter": "python",
   "pygments_lexer": "ipython3",
   "version": "3.8.10"
  }
 },
 "nbformat": 4,
 "nbformat_minor": 5
}
